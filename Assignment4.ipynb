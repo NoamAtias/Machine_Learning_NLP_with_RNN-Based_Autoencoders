{
  "cells": [
    {
      "cell_type": "markdown",
      "metadata": {
        "id": "MV-Baq834KT6"
      },
      "source": [
        "# Assignment 4: Language Processing with RNN-Based Autoencoders\n",
        "\n",
        "**Deadline**: Sunday, June 15th, by 9pm.\n",
        "\n",
        "\n",
        "**Submission**: Submit a PDF export of the completed notebook as well as the ipynb file. \n",
        "\n",
        "In this assignement, we will practice the application of deep learning to natural language processing.\n",
        "We will be working with a subset of Reuters news headlines that are collected over 15 months,\n",
        "covering all of 2019, plus a few months in 2018 and in a few months of this year.\n",
        "\n",
        "In particular, we will be building an **autoencoder** of news headlines. The idea is similar\n",
        "to the kind of image autoencoder we built in lecture: we will have an **encoder** that\n",
        "maps a news headline to a vector embedding, and then a **decoder** that reconstructs\n",
        "the news headline. Both our encoder and decoder networks will be Recurrent Neural Networks,\n",
        "so that you have a chance to practice building\n",
        "\n",
        "- a neural network that takes a sequence as an input\n",
        "- a neural network that generates a sequence as an output\n",
        "\n",
        "This assignment is organized as follows:\n",
        "\n",
        "- Question 1. Exploring the data\n",
        "- Question 2. Building the autoencoder\n",
        "- Question 3. Training the autoencoder using *data augmentation*\n",
        "- Question 4. Analyzing the embeddings (interpolating between headlines)\n",
        "\n",
        "Furthermore, we'll be introducing the idea of **data augmentation** for improving of\n",
        "the robustness of the autoencoder, as proposed by Shen et al [1] in ICML 2020.\n",
        "\n",
        "[1] Shen, Tianxiao, Jonas Mueller, Regina Barzilay, and Tommi Jaakkola. \"Educating text autoencoders: Latent representation guidance via denoising.\" In International Conference on Machine Learning, pp. 8719-8729. PMLR, 2020."
      ]
    },
    {
      "cell_type": "code",
      "execution_count": 5,
      "metadata": {
        "id": "_CobqQza4KUC"
      },
      "outputs": [],
      "source": [
        "import torch\n",
        "import torch.nn as nn\n",
        "import torch.nn.functional as F\n",
        "import torch.optim as optim\n",
        "\n",
        "import matplotlib.pyplot as plt\n",
        "import numpy as np\n",
        "import random"
      ]
    },
    {
      "cell_type": "markdown",
      "metadata": {
        "id": "cSz5FCNh4KUD"
      },
      "source": [
        "## Question 1. Data (20 %)\n",
        "\n",
        "Download the files `reuters_train.txt` and `reuters_valid.txt`, and upload them to Google Drive.\n",
        "\n",
        "Then, mount Google Drive from your Google Colab notebook:"
      ]
    },
    {
      "cell_type": "code",
      "execution_count": 6,
      "metadata": {
        "id": "fnABNyg94KUE",
        "colab": {
          "base_uri": "https://localhost:8080/"
        },
        "outputId": "a16b6895-229a-4572-9703-fea55e67c37f"
      },
      "outputs": [
        {
          "output_type": "stream",
          "name": "stdout",
          "text": [
            "Drive already mounted at /content/gdrive; to attempt to forcibly remount, call drive.mount(\"/content/gdrive\", force_remount=True).\n"
          ]
        }
      ],
      "source": [
        "from google.colab import drive\n",
        "drive.mount('/content/gdrive')\n",
        "\n",
        "train_path = '/content/gdrive/My Drive/Colab Notebooks/reuters_train.txt' # Update me\n",
        "valid_path = '/content/gdrive/My Drive/Colab Notebooks/reuters_valid.txt' # Update me"
      ]
    },
    {
      "cell_type": "markdown",
      "metadata": {
        "id": "hdkp4HLW4KUE"
      },
      "source": [
        "As we did in some of our examples (e.g., training transformers on IMDB reviews) will be using PyTorch's `torchtext` utilities to help us load, process,\n",
        "and batch the data. We'll be using a `TabularDataset` to load our data, which works well on structured\n",
        "CSV data with fixed columns (e.g. a column for the sequence, a column for the label). Our tabular dataset\n",
        "is even simpler: we have no labels, just some text. So, we are treating our data as a table with one field\n",
        "representing our sequence."
      ]
    },
    {
      "cell_type": "code",
      "execution_count": 7,
      "metadata": {
        "id": "I2PjMSho4KUF"
      },
      "outputs": [],
      "source": [
        "import torchtext.legacy.data as data\n",
        "\n",
        "# Tokenization function to separate a headline into words\n",
        "def tokenize_headline(headline):\n",
        "    \"\"\"Returns the sequence of words in the string headline. We also\n",
        "    prepend the \"<bos>\" or beginning-of-string token, and append the\n",
        "    \"<eos>\" or end-of-string token to the headline.\n",
        "    \"\"\"\n",
        "    return (\"<bos> \" + headline + \" <eos>\").split()\n",
        "\n",
        "# Data field (column) representing our *text*.\n",
        "text_field = data.Field(\n",
        "    sequential=True,            # this field consists of a sequence\n",
        "    tokenize=tokenize_headline, # how to split sequences into words\n",
        "    include_lengths=True,       # to track the length of sequences, for batching\n",
        "    batch_first=True,           # similar to batch_first=True used in nn.RNN demonstrated in lecture\n",
        "    use_vocab=True)             # to turn each character into an integer index\n",
        "train_data = data.TabularDataset(\n",
        "    path=train_path,                # data file path\n",
        "    format=\"tsv\",                   # fields are separated by a tab\n",
        "    fields=[('title', text_field)]) # list of fields (we have only one)"
      ]
    },
    {
      "cell_type": "markdown",
      "metadata": {
        "id": "7TNlqCRM4KUF"
      },
      "source": [
        "### Part (a) -- 5%\n",
        "\n",
        "Draw histograms of the number of words per headline in our training set.\n",
        "Excluding the `<bos>` and `<eos>` tags in your computation.\n",
        "Explain why we would be interested in such histograms."
      ]
    },
    {
      "cell_type": "code",
      "execution_count": 8,
      "metadata": {
        "colab": {
          "base_uri": "https://localhost:8080/",
          "height": 333
        },
        "id": "mBPd0ezl4KUG",
        "outputId": "b4736609-b38c-4a30-d0ec-d7c4d15869b8"
      },
      "outputs": [
        {
          "output_type": "stream",
          "name": "stdout",
          "text": [
            "['<bos>', 'dems', 'move', 'to', 'end', 'shutdown', ',', 'without', 'wall', 'money', '<eos>']\n",
            "['<bos>', 'dems', 'move', 'to', 'end', 'shutdown', ',', 'without', 'wall', 'money', '<eos>']\n"
          ]
        },
        {
          "output_type": "display_data",
          "data": {
            "image/png": "[encoded data removed]",
            "text/plain": [
              "<Figure size 432x288 with 1 Axes>"
            ]
          },
          "metadata": {
            "needs_background": "light"
          }
        }
      ],
      "source": [
        "# Include your histogram and your written explanations\n",
        "length_seq = []\n",
        "for example in train_data:\n",
        "    length_seq.append(len(example.title)-2)\n",
        "plt.hist(length_seq,bins =25)\n",
        "plt.xlabel('Length of headline')\n",
        "plt.ylabel('Number of headlines')\n",
        "plt.title('Number of words per headline')\n",
        "\n",
        "# Here is an example of how to plot a histogram in matplotlib:\n",
        "# plt.hist(np.random.normal(0, 1, 40), bins=20)\n",
        "\n",
        "# Here are some sample code that uses the train_data object:\n",
        "print(train_data[0].title)\n",
        "for example in train_data:\n",
        "    print(example.title)\n",
        "    break"
      ]
    },
    {
      "cell_type": "markdown",
      "metadata": {
        "id": "CWnes5SVRwxl"
      },
      "source": [
        "**Explanation:**\n",
        "\n",
        "We would be interested in such histograms because our model is seq to seq based on RNN, which means that our predictions are made based on the previous words.\n",
        "So, Knowing the length of the headlines will help us understand how far in the past we need to look, and how much padding we need to do, according to the variety we see in the histogram. We can see that most of the headlines are from the same length so the variance is not so high, which means that we won't be needing a lot of padding. \n"
      ]
    },
    {
      "cell_type": "markdown",
      "metadata": {
        "id": "gm3ysTzh4KUG"
      },
      "source": [
        "### Part (b) -- 5%\n",
        "\n",
        "How many distinct words appear in the training data?\n",
        "Exclude the `<bos>` and `<eos>` tags in your computation."
      ]
    },
    {
      "cell_type": "code",
      "execution_count": 9,
      "metadata": {
        "colab": {
          "base_uri": "https://localhost:8080/"
        },
        "id": "2x5wf7h14KUG",
        "outputId": "f3b298b2-525a-410b-88f8-f8e130ad10a3"
      },
      "outputs": [
        {
          "output_type": "stream",
          "name": "stdout",
          "text": [
            "The number of distinct words appear in the training data is 51298\n"
          ]
        }
      ],
      "source": [
        "# Report your values here. Make sure that you report the actual values,\n",
        "# and not just the code used to get those values\n",
        "# You might find the python class Counter from the collections package useful\n",
        "import collections\n",
        "def flatten_list(list1):\n",
        "  flat_list = []\n",
        "  for element in list1:\n",
        "      if type(element) is list:\n",
        "          # If the element is of type list, iterate through the sublist\n",
        "          for item in element:\n",
        "              flat_list.append(item)\n",
        "      else:\n",
        "          flat_list.append(element)\n",
        "  return flat_list\n",
        "\n",
        "flat_train = flatten_list(train_data.title)\n",
        "common_words = collections.Counter(flat_train)\n",
        "print('The number of distinct words appear in the training data is',len(common_words)-2)"
      ]
    },
    {
      "cell_type": "markdown",
      "metadata": {
        "id": "e5lgEwiM4KUH"
      },
      "source": [
        "### Part (c) -- 5%\n",
        "\n",
        "The distribution of *words* will have a long tail, meaning that there are some words\n",
        "that will appear very often, and many words that will appear infrequently. How many words\n",
        "appear exactly once in the training set? Exactly twice?\n",
        "Print these numbers below"
      ]
    },
    {
      "cell_type": "code",
      "execution_count": 10,
      "metadata": {
        "colab": {
          "base_uri": "https://localhost:8080/"
        },
        "id": "RpkUDVoC4KUH",
        "outputId": "a129da0e-b261-4c8c-ebb9-fa496e2e3090"
      },
      "outputs": [
        {
          "output_type": "stream",
          "name": "stdout",
          "text": [
            "The number of words appear exactly once in the training set is 19854\n",
            "The number of words appear exactly twice in the training set is 7193\n"
          ]
        }
      ],
      "source": [
        "# Report your values here. Make sure that you report the actual values,\n",
        "# and not just the code used to get those values\n",
        "value = common_words.values()\n",
        "once = 0\n",
        "twice = 0\n",
        "for item in value:\n",
        "  if item == 1:\n",
        "    once +=1\n",
        "  elif item == 2:\n",
        "    twice +=1\n",
        "\n",
        "print('The number of words appear exactly once in the training set is',once)\n",
        "print('The number of words appear exactly twice in the training set is',twice)"
      ]
    },
    {
      "cell_type": "markdown",
      "metadata": {
        "id": "K3RKPwdI4KUI"
      },
      "source": [
        "### Part (d) -- 5%\n",
        "We will replace the infrequent\n",
        "words with an `<unk>` tag, instead of learning embeddings for these rare words. `torchtext` also provides us with the `<pad>` tag used for padding short sequences for batching.\n",
        "We will thus only model the top 9995 words in the training set, excluding the tags\n",
        "`<bos>`, `<eos>`, `<unk>`, and `<pad>`.\n",
        "\n",
        "What percentage of total word count(whole dataset) will be supported? Alternatively, what percentage\n",
        "of total word count(whole dataset) in the training set will be set to the `<unk>` tag?"
      ]
    },
    {
      "cell_type": "code",
      "execution_count": 11,
      "metadata": {
        "colab": {
          "base_uri": "https://localhost:8080/"
        },
        "id": "Cva5DC_64KUI",
        "outputId": "798472e2-cfac-4690-d6e3-248d937d11b9"
      },
      "outputs": [
        {
          "output_type": "stream",
          "name": "stdout",
          "text": [
            "The percentage of total words count that will be supported is 93.97857393100142 %\n",
            "The percentage of total words count that will be set to <unk> tag is 6.02142606899858 %\n"
          ]
        }
      ],
      "source": [
        "# Report your values here. Make sure that you report the actual values,\n",
        "# and not just the code used to get those values\n",
        "model_top = common_words.most_common()\n",
        "sum_top = sum(j for i, j in model_top[2:9997])\n",
        "sum_all = sum(sorted(list(value), reverse=True)[2:])\n",
        "print('The percentage of total words count that will be supported is',100*sum_top/sum_all,'%')\n",
        "sum_unk = sum(j for i, j in model_top[9997:])\n",
        "print('The percentage of total words count that will be set to <unk> tag is',100*sum_unk/sum_all,'%')"
      ]
    },
    {
      "cell_type": "markdown",
      "metadata": {
        "id": "SBV8CTyk4KUJ"
      },
      "source": [
        "The `torchtext` package will help us keep track of our list of unique words, known\n",
        "as a **vocabulary**. A vocabulary also assigns a unique integer index to each word."
      ]
    },
    {
      "cell_type": "code",
      "execution_count": 12,
      "metadata": {
        "colab": {
          "base_uri": "https://localhost:8080/"
        },
        "id": "GRLFF8j14KUJ",
        "outputId": "2f010329-09c6-4543-97aa-56e4deaa9086"
      },
      "outputs": [
        {
          "output_type": "stream",
          "name": "stdout",
          "text": [
            "0\n",
            "on\n",
            "<unk>\n",
            "<pad>\n"
          ]
        }
      ],
      "source": [
        "# Build the vocabulary based on the training data. The vocabulary\n",
        "# can have at most 9997 words (9995 words + the <bos> and <eos> token)\n",
        "text_field.build_vocab(train_data, max_size=9997)\n",
        "\n",
        "# This vocabulary object will be helpful for us\n",
        "vocab = text_field.vocab\n",
        "print(vocab.stoi[\"hello\"]) # for instances, we can convert from string to (unique) index\n",
        "print(vocab.itos[10])      # ... and from word index to string\n",
        "\n",
        "# The size of our vocabulary  \n",
        "vocab_size = len(text_field.vocab.stoi) \n",
        "# Here are the two tokens that torchtext adds for us:\n",
        "print(vocab.itos[0]) # <unk> represents an unknown word not in our vocabulary\n",
        "print(vocab.itos[1]) # <pad> will be used to pad short sequences for batching   \n"
      ]
    },
    {
      "cell_type": "markdown",
      "metadata": {
        "id": "bnoMpzC14KUK"
      },
      "source": [
        "## Question 2. Text Autoencoder (40%)\n",
        "\n",
        "Building a text autoencoder is a little more complicated than an image autoencoder like we did in class. So\n",
        "we will need to thoroughly understand the model that we want to build before actually building it. Note that the best and fastest way to complete this assignment is to spend time upfront understanding the architecture. The explanations are quite dense, but it is important to understand the operation of this model. The rationale here is similar in nature to the `seq2seq` RNN model we discussed in class, only we are dealing with unsupervised learning here rather than machine translation. \n",
        "\n",
        "# Architecture description\n",
        "Here is a diagram showing our desired architecture:\n",
        "\n",
        "<img src='https://drive.google.com/uc?id=1UaXAYQvmFbBcuSBQb7ozjSliuVn7bP1Q'>\n",
        "\n",
        "There are two main components to the model: the **encoder** and the **decoder**.\n",
        "As always with neural networks, we'll first describe how to make\n",
        "**predictions** with of these components. Let's get started:\n",
        "\n",
        "The **encoder** will take a sequence of words (a headline) as *input*, and produce an\n",
        "embedding (a vector) that represents the entire headline. In the diagram above,\n",
        "the vector ${\\bf h}^{(7)}$ is the vector embedding containing information about \n",
        "the entire headline.  This portion is very similar\n",
        "to the sentiment analysis RNN that we discussed in lecture (but without the fully-connected\n",
        "layer that makes a prediction).\n",
        "\n",
        "The **decoder** will take an embedding (in the diagram, the vector ${\\bf h}^{(7)}$) as input,\n",
        "and uses a separate RNN to **generate a sequence of words**. To generate a sequence of words,\n",
        "the decoder needs to do the following:\n",
        "\n",
        "\n",
        "1.   Determine the previous word that was generated. This previous word will act as ${\\bf x}^{(t)}$\n",
        "   to our RNN, and will be used to update the hidden state ${\\bf m}^{(t)}$. Since each of our\n",
        "   sequences begin with the `<bos>` token, we'll set ${\\bf x}^{(1)}$ to be the `<bos>` token.\n",
        "2.   Compute the updates to the hidden state ${\\bf m}^{(t)}$ based on the previous hidden state\n",
        "   ${\\bf m}^{(t-1)}$ and ${\\bf x}^{(t)}$. Intuitively, this hidden state vector ${\\bf m}^{(t)}$\n",
        "   is a representation of *all the words we still need to generate*.\n",
        "3. We'll use a fully-connected layer to take a hidden state ${\\bf m}^{(t)}$, and determine\n",
        "   *what the next word should be*. This fully-connected layer solves a *classification problem*,\n",
        "   since we are trying to choose a word out of $K=$ `vocab_size` distinct words. As in a classification\n",
        "   problem, the fully-connected neural network will compute a *probability distribution* over\n",
        "   these `vocab_size` words. In the diagram, we are using ${\\bf z}^{(t)}$ to represent the logits,\n",
        "   or the pre-softmax activation values representing the probability distribution.\n",
        "4. We will need to *sample* an actual word from this probability distribution ${\\bf z}^{(t)}$.\n",
        "   We can do this in a number of ways, which we'll discuss in question 3. For now, you can \n",
        "   imagine your favourite way of picking a word given a distribution over words.\n",
        "5. This word we choose will become the next input ${\\bf x}^{(t+1)}$ to our RNN, which is used\n",
        "   to update our hidden state ${\\bf m}^{(t+1)}$, i.e., to determine what are the remaining\n",
        "   words to be generated.\n",
        "\n",
        "We can repeat this process until we see an `<eos>` token generated, or until the generated\n",
        "sequence becomes too long.\n",
        "\n",
        "# Training the architecture\n",
        "While our autoencoder produces a sequence, computing the loss by comparing the complete generated sequence to the ground truth (the encoder input) gives rise to multiple challanges. One is that the generated\n",
        "sequence might be longer or shorter than the actual sequence, meaning that there may\n",
        "be more/fewer ${\\bf z}^{(t)}$s than ground-truth words. Another more insidious issue\n",
        "is that the **gradients will become very high-variance and unstable**, because\n",
        "**early mistakes will easily throw the model off-track**. Early in training,\n",
        "our model is unlikely to produce the right answer in step $t=1$, so the gradients\n",
        "we obtain based on the other time steps will not be very useful.\n",
        "\n",
        "At this point, you might have some ideas about \"hacks\" we can use to make training\n",
        "work. Fortunately, there is one very well-established solution called\n",
        "**teacher forcing** which we can use for training:\n",
        "instead of *sampling* the next word based on ${\\bf z}^{(t)}$, we will forget sampling,\n",
        "and use the **ground truth** ${\\bf x}^{(t)}$ as the input in the next step.\n",
        "\n",
        "Here is a diagram showing how we can use **teacher forcing** to train our model:\n",
        " \n",
        "<img src='https://drive.google.com/uc?id=1NXlimWaCviDfP8DHlIzyQR1Ie7sxfPuY'>\n",
        "\n",
        "We will use the RNN generator to compute the logits\n",
        "${\\bf z}^{(1)},{\\bf z}^{(2)},  \\cdots {\\bf z}^{(T)}$. These distributions\n",
        "can be compared to the ground-truth words using the cross-entropy loss.\n",
        "The loss function for this model will be the sum of the losses across each $t \\in \\{1,\\ldots,T\\}$.\n",
        "\n",
        "We'll train the encoder and decoder model simultaneously. There are several components\n",
        "to our model that contain tunable weights:\n",
        "\n",
        "- The word embedding that maps a word to a vector representation.\n",
        "  In theory, we could use GloVe embeddings, as we did in class. In this assignment we will not do that, but learn the word embedding from data.\n",
        "  The word embedding component is represented with blue arrows in the diagram.\n",
        "- The encoder RNN (which will use GRUs) that computes the\n",
        "  embedding over the entire headline. The encoder RNN \n",
        "  is represented with black arrows in the diagram.\n",
        "- The decoder RNN (which will also use GRUs) that computes\n",
        "  hidden states, which are vectors representing what words are to be generated.\n",
        "  The decoder RNN is represented with gray arrows in the diagram.\n",
        "- The **projection MLP** (a fully-connected layer) that computes\n",
        "  a distribution over the next word to generate, given a decoder RNN hidden\n",
        "  state. The projection is represented with green arrows \n"
      ]
    },
    {
      "cell_type": "markdown",
      "metadata": {
        "id": "Dk9WDEC90ScA"
      },
      "source": [
        "\n",
        "## Part (a) -- 20%\n",
        "\n",
        "Complete the code for the AutoEncoder class below by:\n",
        "\n",
        "1. Filling in the missing numbers in the `__init__` method using\n",
        "   the parameters `vocab_size`, `emb_size`, and `hidden_size`.  \n",
        "2. Complete the `forward` method, which uses teacher forcing\n",
        "   and computes the logits ${\\bf z}^{(t)}$ of the reconstruction of\n",
        "   the sequence. \n",
        "\n",
        "You should first try to understand the `encode` and `decode` methods,\n",
        "which are written for you. The `encode` method bears much similarity to the\n",
        "RNN we wrote in class for sentiment analysis.  The `decode` method is\n",
        "a bit more challenging. You might want to scroll down to the\n",
        "`sample_sequence` function to see how this function will be called.\n",
        "\n",
        "You can (but don't have to) use the `encode` and `decode` method in\n",
        "your `forward` method. In either case, be careful of the input\n",
        "that you feed into ether `decode` or to `self.decoder_rnn`.\n",
        "Refer to the teacher-forcing diagram.\n",
        "**bold text** Notice that batch_first is set to True, understand how deal with it."
      ]
    },
    {
      "cell_type": "code",
      "execution_count": 13,
      "metadata": {
        "id": "ey4tslhD4KUO"
      },
      "outputs": [],
      "source": [
        "class AutoEncoder(nn.Module):\n",
        "    def __init__(self, vocab_size, emb_size, hidden_size):\n",
        "        \"\"\"\n",
        "        A text autoencoder. The parameters \n",
        "            - vocab_size: number of unique words/tokens in the vocabulary\n",
        "            - emb_size: size of the word embeddings $x^{(t)}$\n",
        "            - hidden_size: size of the hidden states in both the\n",
        "                           encoder RNN ($h^{(t)}$) and the\n",
        "                           decoder RNN ($m^{(t)}$)\n",
        "        \"\"\"\n",
        "        super().__init__()\n",
        "        self.embed = nn.Embedding(num_embeddings=vocab_size, # TODO\n",
        "                                  embedding_dim=emb_size)  # TODO\n",
        "        self.encoder_rnn = nn.GRU(input_size=emb_size, #TODO\n",
        "                                  hidden_size=hidden_size, #TODO\n",
        "                                  batch_first=True)\n",
        "        self.decoder_rnn = nn.GRU(input_size=emb_size, #TODO\n",
        "                                  hidden_size=hidden_size, #TODO\n",
        "                                  batch_first=True)\n",
        "        self.proj = nn.Linear(in_features=hidden_size, # TODO\n",
        "                              out_features=vocab_size) # TODO\n",
        "\n",
        "    def encode(self, inp):\n",
        "        \"\"\"\n",
        "        Computes the encoder output given a sequence of words.\n",
        "        \"\"\"\n",
        "        emb = self.embed(inp)\n",
        "        out, last_hidden = self.encoder_rnn(emb)\n",
        "        return last_hidden\n",
        "\n",
        "    def decode(self, inp, hidden=None):\n",
        "        \"\"\"\n",
        "        Computes the decoder output given a sequence of words, and\n",
        "        (optionally) an initial hidden state.\n",
        "        \"\"\"\n",
        "        emb = self.embed(inp)\n",
        "        out, last_hidden = self.decoder_rnn(emb, hidden)\n",
        "        out_seq = self.proj(out)\n",
        "        return out_seq, last_hidden\n",
        "\n",
        "    def forward(self, inp):\n",
        "        \"\"\"\n",
        "        Compute both the encoder and decoder forward pass\n",
        "        given an integer input sequence inp with shape [batch_size, seq_length],\n",
        "        with inp[a,b] representing the (index in our vocabulary of) the b-th word\n",
        "        of the a-th training example.\n",
        "\n",
        "        This function should return the logits $z^{(t)}$ in a tensor of shape\n",
        "        [batch_size, seq_length - 1, vocab_size], computed using *teaching forcing*.\n",
        "\n",
        "        The (seq_length - 1) part is not a typo. If you don't understand why\n",
        "        we need to subtract 1, refer to the teacher-forcing diagram above.\n",
        "        \"\"\"\n",
        "\n",
        "        out_seq ,last_hidden= self.decode(inp[:,:-1],self.encode(inp))\n",
        "        return out_seq"
      ]
    },
    {
      "cell_type": "markdown",
      "metadata": {
        "id": "_uwpjvIw4KUQ"
      },
      "source": [
        "### Part (b) -- 10%\n",
        "\n",
        "To check that your model is set up correctly, we'll train our autoencoder\n",
        "neural network for at least 300 iterations to memorize this sequence:"
      ]
    },
    {
      "cell_type": "code",
      "execution_count": 14,
      "metadata": {
        "id": "sJmPNMnY4KUQ"
      },
      "outputs": [],
      "source": [
        "headline = train_data[42].title\n",
        "input_seq = torch.Tensor([vocab.stoi[w] for w in headline]).long().unsqueeze(0)"
      ]
    },
    {
      "cell_type": "markdown",
      "metadata": {
        "id": "Qj55uU-C4KUQ"
      },
      "source": [
        "We are looking for the way that you set up your loss function\n",
        "corresponding to the figure above.\n",
        "Be  careful of off-by-one errors here.\n",
        "\n",
        "\n",
        "Note that the Cross Entropy Loss expects a rank-2 tensor as its first\n",
        "argument (the output of the network), and a rank-1 tensor as its second argument (the true label). You will\n",
        "need to properly reshape your data to be able to compute the loss."
      ]
    },
    {
      "cell_type": "code",
      "execution_count": 15,
      "metadata": {
        "colab": {
          "base_uri": "https://localhost:8080/"
        },
        "id": "aScYWbBx4KUQ",
        "outputId": "f8e1ab16-e433-4aad-beb2-932c6a2d87f7"
      },
      "outputs": [
        {
          "output_type": "stream",
          "name": "stdout",
          "text": [
            "[Iter 50] Loss 0.109590\n",
            "[Iter 100] Loss 0.028804\n",
            "[Iter 150] Loss 0.017951\n",
            "[Iter 200] Loss 0.012529\n",
            "[Iter 250] Loss 0.009340\n",
            "[Iter 300] Loss 0.007280\n"
          ]
        }
      ],
      "source": [
        "model = AutoEncoder(vocab_size, 128, 128)\n",
        "optimizer = optim.Adam(model.parameters(), lr=0.001)\n",
        "criterion = nn.CrossEntropyLoss()\n",
        "\n",
        "for it in range(300):\n",
        "    zt = model(input_seq)\n",
        "    loss = criterion(zt.squeeze(0).double(),input_seq[0,1:])\n",
        "    optimizer.zero_grad()\n",
        "    loss.backward()                    \n",
        "    optimizer.step()  \n",
        "\n",
        "    if (it+1) % 50 == 0:\n",
        "        print(\"[Iter %d] Loss %f\" % (it+1, float(loss)))"
      ]
    },
    {
      "cell_type": "markdown",
      "metadata": {
        "id": "SWKYC3z34KUR"
      },
      "source": [
        "### Part (c) -- 4%\n",
        "\n",
        "Once you are satisfied with your model, encode your input using\n",
        "the RNN encoder, and sample some sequences from the decoder. The \n",
        "sampling code is provided to you, and performs the computation\n",
        "from the first diagram (without teacher forcing).\n",
        "\n",
        "Note that we are sampling from a multi-nomial distribution described\n",
        "by the logits $z^{(t)}$. For example, if our distribution is [80%, 20%]\n",
        "over a vocabulary of two words, then we will choose the first word\n",
        "with 80% probability and the second word with 20% probability.\n",
        "\n",
        "Call `sample_sequence` at least 5 times, with the default temperature\n",
        "value. Make sure to include the generated sequences in your PDF\n",
        "report."
      ]
    },
    {
      "cell_type": "code",
      "execution_count": 16,
      "metadata": {
        "colab": {
          "base_uri": "https://localhost:8080/"
        },
        "id": "6vjVvmn14KUR",
        "outputId": "cb3067e5-ef99-45b1-b003-f5cd7427cf99"
      },
      "outputs": [
        {
          "output_type": "stream",
          "name": "stdout",
          "text": [
            "True seq:  ['<bos>', 'dems', 'move', 'to', 'end', 'shutdown', ',', 'without', 'wall', 'money', '<eos>']\n",
            "Predicted seq:  ['zambian', 'president', 'swears', 'in', 'new', 'army', 'chief'] \n",
            "\n",
            "True seq:  ['<bos>', 'hearts', 'broken', 'after', '_num_-year-old', 'killed', 'before', 'nye', '<eos>']\n",
            "Predicted seq:  ['zambian', 'president', 'swears', 'in', 'new', 'army', 'chief'] \n",
            "\n",
            "True seq:  ['<bos>', 'russia', 'arrests', 'american', 'suspected', 'of', 'espionage', '<eos>']\n",
            "Predicted seq:  ['zambian', 'president', 'swears', 'in', 'new', 'army', 'chief'] \n",
            "\n",
            "True seq:  ['<bos>', 'warren', 'takes', 'step', 'to', 'challenge', 'trump', 'in', '_num_', '<eos>']\n",
            "Predicted seq:  ['zambian', 'president', 'swears', 'in', 'new', 'army', 'chief'] \n",
            "\n",
            "True seq:  ['<bos>', 'u.s.', 'navy', 'pursuing', 'block', 'buy', 'of', 'two', 'aircraft', 'carriers', ':', 'senator', '<eos>']\n",
            "Predicted seq:  ['zambian', 'president', 'swears', 'in', 'new', 'army', 'chief'] \n",
            "\n"
          ]
        }
      ],
      "source": [
        "def sample_sequence(model, hidden, max_len=20, temperature=1):\n",
        "    \"\"\"\n",
        "    Return a sequence generated from the model's decoder\n",
        "        - model: an instance of the AutoEncoder model\n",
        "        - hidden: a hidden state (e.g. computed by the encoder)\n",
        "        - max_len: the maximum length of the generated sequence\n",
        "        - temperature: described in Part (d)\n",
        "    \"\"\"\n",
        "    # We'll store our generated sequence here\n",
        "    generated_sequence = []\n",
        "    # Set input to the <BOS> token\n",
        "    inp = torch.Tensor([text_field.vocab.stoi[\"<bos>\"]]).long()\n",
        "    for p in range(max_len):\n",
        "        # compute the output and next hidden unit\n",
        "        output, hidden = model.decode(inp.unsqueeze(0), hidden)\n",
        "        # Sample from the network as a multinomial distribution\n",
        "        output_dist = output.data.view(-1).div(temperature).exp()\n",
        "        top_i = int(torch.multinomial(output_dist, 1)[0])\n",
        "        # Add predicted word to string and use as next input\n",
        "        word = text_field.vocab.itos[top_i]\n",
        "        # Break early if we reach <eos>\n",
        "        if word == \"<eos>\":\n",
        "            break\n",
        "        generated_sequence.append(word)\n",
        "        inp = torch.Tensor([top_i]).long()\n",
        "    return generated_sequence\n",
        "\n",
        "# Your solutions go here\n",
        "for i in range(5): \n",
        "  headline = train_data[i].title\n",
        "  print(\"True seq: \",headline)\n",
        "  input_seq = torch.Tensor([vocab.stoi[w] for w in headline]).long().unsqueeze(0)\n",
        "  prediced_seq = sample_sequence(model, model.encode(input_seq), max_len=20, temperature=1)\n",
        "  print(\"Predicted seq: \",prediced_seq, \"\\n\")"
      ]
    },
    {
      "cell_type": "markdown",
      "metadata": {
        "id": "0T7gcPnn4KUR"
      },
      "source": [
        "### Part (d) -- 6%\n",
        "\n",
        "The multi-nomial distribution can be manipulated using the `temperature`\n",
        "setting. This setting can be used to make the distribution \"flatter\" (e.g.\n",
        "more likely to generate different words) or \"peakier\" (e.g. less likely\n",
        "to generate different words).\n",
        "\n",
        "Call `sample_sequence` at least 5 times each for at least 3 different\n",
        "temperature settings (e.g. 1.5, 2, and 5). Explain why we generally\n",
        "don't want the temperature setting to be too **large**."
      ]
    },
    {
      "cell_type": "markdown",
      "source": [
        "**Explanaion:**\n",
        "\n",
        "We generally don't want the temperature to be too large, because when using a large temperature, it \"flattens\" the distribution of the words, so the model will generate different words. That is because the high-temperature causes higher randomness in the predictions, rather than a prediction based on the likelihood of the tokens. We can see that when using high temperature, the predictions are only random, and there are no words predicted based on similarity or likely tokens that would make sense."
      ],
      "metadata": {
        "id": "wlBNWp8GBMtG"
      }
    },
    {
      "cell_type": "code",
      "execution_count": 17,
      "metadata": {
        "colab": {
          "base_uri": "https://localhost:8080/"
        },
        "id": "jA_S0cmE4KUR",
        "outputId": "d041496a-1e06-49b0-98c8-94402061d527"
      },
      "outputs": [
        {
          "output_type": "stream",
          "name": "stdout",
          "text": [
            "The temperature is:  1.5\n",
            "True seq:  ['<bos>', 'dems', 'move', 'to', 'end', 'shutdown', ',', 'without', 'wall', 'money', '<eos>']\n",
            "Predicted seq:  ['president', 'emerge', 'airplane', 'reed', 'imported', 'platforms', 'sisters', 'exporter', 'excess', 'major', 'wnba', 'handelsblatt', 'capture', 'sharara', 'heights', 'entire'] \n",
            "\n",
            "True seq:  ['<bos>', 'hearts', 'broken', 'after', '_num_-year-old', 'killed', 'before', 'nye', '<eos>']\n",
            "Predicted seq:  ['endo', 'slavery', 'rpt-india', 'sweetens', 'swift', 'erase', 'army', 'criticized', 'chief', 'dior', 'curb', 'steps', '2,500'] \n",
            "\n",
            "True seq:  ['<bos>', 'russia', 'arrests', 'american', 'suspected', 'of', 'espionage', '<eos>']\n",
            "Predicted seq:  ['in', 'new', 'halted', '_num_-california', 'ola', 'rupees', 'snow', 'chief', 'dramatic', 'bridge', '_num_-climate', 'lakers', 'overcome', 'army', 'chief', 'swears', 'events', 'new', 'globes', 'army'] \n",
            "\n",
            "True seq:  ['<bos>', 'warren', 'takes', 'step', 'to', 'challenge', 'trump', 'in', '_num_', '<eos>']\n",
            "Predicted seq:  ['gordon', 'visits', 'abiy', 'abusing', 'army', 'payrolls', 'donald', 'sports', 'oecd', 'impairment', 'manager', 'medicaid', 'popularity', 'dp', 'army', 'chief'] \n",
            "\n",
            "True seq:  ['<bos>', 'u.s.', 'navy', 'pursuing', 'block', 'buy', 'of', 'two', 'aircraft', 'carriers', ':', 'senator', '<eos>']\n",
            "Predicted seq:  ['zambian', 'nowhere', 'busy', 'auction', 'new', 'army', 'chief'] \n",
            "\n",
            "The temperature is:  2\n",
            "True seq:  ['<bos>', 'dems', 'move', 'to', 'end', 'shutdown', ',', 'without', 'wall', 'money', '<eos>']\n",
            "Predicted seq:  ['anti-government', 'red', 'mastercard', 'john', 'lpga', 'before', 'expand', 'kids', 'heart', 'harming', 'chief', 'extension', 'intensifies', '_num_-pga', 'animal', 'informed', 'controlled', 'beaten', 'cryptocurrencies', 'greenlight'] \n",
            "\n",
            "True seq:  ['<bos>', 'hearts', 'broken', 'after', '_num_-year-old', 'killed', 'before', 'nye', '<eos>']\n",
            "Predicted seq:  ['sclerosis', '_num_-in', 'dortmund', 'down', 'nowhere', 'flint', 'organic', 'revolution', 'retail', 'authorizes', 'suing', 'bosnian', 'already', 'stores', 'verstappen', 'inspire', 'christchurch', 'hamburg', 'celebration', 'security'] \n",
            "\n",
            "True seq:  ['<bos>', 'russia', 'arrests', 'american', 'suspected', 'of', 'espionage', '<eos>']\n",
            "Predicted seq:  ['shooter', 'priest', 'heightening', 'studies', 'in', 'investigations', 'hidden', 'state-backed', 'intended', 'need', 'togo', 'lvmh', 'blamed', 'flies', 'cans', 'sense', 'volumes', 'bars', 'surcharge', 'stresses'] \n",
            "\n",
            "True seq:  ['<bos>', 'warren', 'takes', 'step', 'to', 'challenge', 'trump', 'in', '_num_', '<eos>']\n",
            "Predicted seq:  ['_num_-congo', 'releasing', 'soup', 'fame', 'exchange', 'patrols', 'pour', '_num_-swiss', 'warriors', 'graham', 'mediation', 'raided', 'valencia', 'bump', 'bln-', 'till', 'duterte', 'associates', 'golden', 'army'] \n",
            "\n",
            "True seq:  ['<bos>', 'u.s.', 'navy', 'pursuing', 'block', 'buy', 'of', 'two', 'aircraft', 'carriers', ':', 'senator', '<eos>']\n",
            "Predicted seq:  ['zambian', 'drown', 'president', 'associate', 'soldier', 'canceled', 'louis', 'transport', 'sparkle', '_num_-ab', 'ally', 'millions', 'went', 'semi-final', 'event', 'vegas', 'majeure', 'blaze', 'reit', 'hess'] \n",
            "\n",
            "The temperature is:  5\n",
            "True seq:  ['<bos>', 'dems', 'move', 'to', 'end', 'shutdown', ',', 'without', 'wall', 'money', '<eos>']\n",
            "Predicted seq:  ['americans', 'parade', 'konta', 'cattle', 'shot', 'w', 'table-uae', '_num_-canada', 'grind', 'arson', 'neutrality', 'angering', 'pump', 'lane', 'fourth', 'fear', 'nasdaq-style', 'goal', 'bullying', 'endorses'] \n",
            "\n",
            "True seq:  ['<bos>', 'hearts', 'broken', 'after', '_num_-year-old', 'killed', 'before', 'nye', '<eos>']\n",
            "Predicted seq:  ['charter', 'retailer', 'defamation', 'corrected-us', 'nascar', 'prompts', 'films', 'anything', 'view', 'therapy', 'four-day', 'bertens', 'arguments', 'creditors', 'sadr', 'liquidation', 'intent', 'kaepernick', 'body', 'colts'] \n",
            "\n",
            "True seq:  ['<bos>', 'russia', 'arrests', 'american', 'suspected', 'of', 'espionage', '<eos>']\n",
            "Predicted seq:  ['appears', 'long-term', 'shares', 'data', 'micron', 'rough', 'believe', 'sanctuary', 'eric', 'improved', 'nevada', 'leviathan', 'manager', 'athlete', 'iea', 'sunday', 'ericsson', 'adelaide', 'adani', 'president-elect'] \n",
            "\n",
            "True seq:  ['<bos>', 'warren', 'takes', 'step', 'to', 'challenge', 'trump', 'in', '_num_', '<eos>']\n",
            "Predicted seq:  ['detail', 'cholera', 'defense', 'knee', 'credit', 'tops', 'county', 'sisi', 'unicorn', 'two-month', 'swears', 'buys', 'carter', 'percent', 'design', 'timeline', 'depression', 'lewis', 'foot', 'pro-government'] \n",
            "\n",
            "True seq:  ['<bos>', 'u.s.', 'navy', 'pursuing', 'block', 'buy', 'of', 'two', 'aircraft', 'carriers', ':', 'senator', '<eos>']\n",
            "Predicted seq:  ['modi', 'messaging', 'defense', 'kyrgyz', 'stock', 'deny', 'trade-fueled', 'league', 'malaria', 'temperatures', 'saa', 'kingdom', 'jailed', 'confrontation', 'rise', 'biosimilar', 'testify', 'alleges', 'heatwave', 'steep'] \n",
            "\n"
          ]
        }
      ],
      "source": [
        "# Include the generated sequences and explanation in your PDF report.\n",
        "temp = [1.5,2,5]\n",
        "for j in temp:\n",
        "  print('The temperature is: ',j)\n",
        "  for i in range(5): \n",
        "    headline = train_data[i].title\n",
        "    print(\"True seq: \",headline)\n",
        "    input_seq = torch.Tensor([vocab.stoi[w] for w in headline]).long().unsqueeze(0)\n",
        "    prediced_seq = sample_sequence(model, model.encode(input_seq), max_len=20, temperature=j)\n",
        "    print(\"Predicted seq: \",prediced_seq, \"\\n\")"
      ]
    },
    {
      "cell_type": "markdown",
      "metadata": {
        "id": "ZK4ptUb54KUS"
      },
      "source": [
        "## Question 3. Data augmentation (20%)\n",
        "\n",
        "It turns out that getting good results from a text auto-encoder is very difficult,\n",
        "and that it is very easy for our model to **overfit**. We have discussed several methods\n",
        "that we can use to prevent overfitting, and we'll introduce one more today:\n",
        "**data augmentation**.\n",
        "\n",
        "The idea behind data augmentation is to artificially increase the number of training\n",
        "examples by \"adding noise\" to the image. For example, during AlexNet training,\n",
        "the authors randomly cropped $224\\times 224$\n",
        "regions of a $256 \\times 256$ pixel image to increase the amount of training data.\n",
        "The authors also flipped the image left/right.\n",
        "Machine learning practitioners can also add Gaussian noise to the image.\n",
        "\n",
        "When we use data augmentation to train an *autoencoder*, we typically to only add\n",
        "the noise to the input, and expect the reconstruction to be *noise free*.\n",
        "This makes the task of the autoencoder even more difficult. An autoencoder trained\n",
        "with noisy inputs is called a **denoising auto-encoder**. For simplicity, we will\n",
        "*not* build a denoising autoencoder today.\n",
        "\n"
      ]
    },
    {
      "cell_type": "markdown",
      "metadata": {
        "id": "yieWyWqS4KUS"
      },
      "source": [
        "### Part (a) -- 5%\n",
        "\n",
        "We will add noise to our headlines using a few different techniques:\n",
        "\n",
        "1. Shuffle the words in the headline, taking care that words don't end up too far from where they were initially\n",
        "2. Drop (remove) some words \n",
        "3. Replace some words with a blank word (a `<pad>` token)\n",
        "4. Replace some words with a random word \n",
        "\n",
        "The code for adding these types of noise is provided for you:"
      ]
    },
    {
      "cell_type": "code",
      "execution_count": 18,
      "metadata": {
        "id": "IGb3uL5U4KUS"
      },
      "outputs": [],
      "source": [
        "def tokenize_and_randomize(headline,\n",
        "                           drop_prob=0.1,  # probability of dropping a word\n",
        "                           blank_prob=0.1, # probability of \"blanking\" out a word\n",
        "                           sub_prob=0.1,   # probability of substituting a word with a random one\n",
        "                           shuffle_dist=3): # maximum distance to shuffle a word\n",
        "    \"\"\"\n",
        "    Add 'noise' to a headline by slightly shuffling the word order,\n",
        "    dropping some words, blanking out some words (replacing with the <pad> token)\n",
        "    and substituting some words with random ones.\n",
        "    \"\"\"\n",
        "    headline = [vocab.stoi[w] for w in headline.split()]\n",
        "    n = len(headline)\n",
        "    # shuffle\n",
        "    headline = [headline[i] for i in get_shuffle_index(n, shuffle_dist)]\n",
        "\n",
        "    new_headline = [vocab.stoi['<bos>']]\n",
        "    for w in headline:\n",
        "        if random.random() < drop_prob:\n",
        "            # drop the word\n",
        "            pass\n",
        "        elif random.random() < blank_prob:\n",
        "            # replace with blank word\n",
        "            new_headline.append(vocab.stoi[\"<pad>\"])\n",
        "        elif random.random() < sub_prob:\n",
        "            # substitute word with another word\n",
        "            new_headline.append(random.randint(0, vocab_size - 1))\n",
        "        else:\n",
        "            # keep the original word\n",
        "            new_headline.append(w)\n",
        "    new_headline.append(vocab.stoi['<eos>'])\n",
        "    return new_headline\n",
        "\n",
        "def get_shuffle_index(n, max_shuffle_distance):\n",
        "    \"\"\" This is a helper function used to shuffle a headline with n words,\n",
        "    where each word is moved at most max_shuffle_distance. The function does\n",
        "    the following: \n",
        "       1. start with the *unshuffled* index of each word, which\n",
        "          is just the values [0, 1, 2, ..., n]\n",
        "       2. perturb these \"index\" values by a random floating-point value between\n",
        "          [0, max_shuffle_distance]\n",
        "       3. use the sorted position of these values as our new index\n",
        "    \"\"\"\n",
        "    index = np.arange(n)\n",
        "    perturbed_index = index + np.random.rand(n) * 3\n",
        "    new_index = sorted(enumerate(perturbed_index), key=lambda x: x[1])\n",
        "    return [index for (index, pert) in new_index]"
      ]
    },
    {
      "cell_type": "markdown",
      "metadata": {
        "id": "h8t6eZgy4KUT"
      },
      "source": [
        "Call the function `tokenize_and_randomize` 5 times on a headline of your\n",
        "choice. Make sure to include both your original headline, and the five new\n",
        "headlines in your report."
      ]
    },
    {
      "cell_type": "code",
      "execution_count": 19,
      "metadata": {
        "colab": {
          "base_uri": "https://localhost:8080/"
        },
        "id": "CktsYMIE4KUT",
        "outputId": "37ec1798-3622-4f3e-dc36-213b02238475"
      },
      "outputs": [
        {
          "output_type": "stream",
          "name": "stdout",
          "text": [
            "Original headline: ['<bos>', 'nfl', 'notebook', ':', 'ab', 'was', 'reportedly', 'benched', 'for', 'week', '_num_', '<eos>']\n",
            "Noisy headline 1  is:  ['<bos>', 'nfl', 'notebook', ':', 'reportedly', 'ab', 'was', '<unk>', 'week', '_num_', '<eos>']\n",
            "Noisy headline 2  is:  ['<bos>', '<pad>', ':', '<pad>', 'notebook', 'aboard', '<unk>', 'for', '_num_', 'week', '<eos>']\n",
            "Noisy headline 3  is:  ['<bos>', '<pad>', 'was', '<pad>', '<pad>', '<eos>']\n",
            "Noisy headline 4  is:  ['<bos>', '<pad>', 'ab', 'reportedly', '<pad>', '<eos>']\n",
            "Noisy headline 5  is:  ['<bos>', '<pad>', 'enter', '<pad>', '<pad>', '<pad>', '<eos>']\n"
          ]
        }
      ],
      "source": [
        "# Report your values here. Make sure that you report the actual values,\n",
        "# and not just the code used to get those values\n",
        "chosen_headline = train_data[40].title\n",
        "print('Original headline:',chosen_headline)\n",
        "\n",
        "for i in range(5):\n",
        "  l =[]\n",
        "  noisy_headline = tokenize_and_randomize(' '.join(chosen_headline[1:-1]),drop_prob=(i+1)*0.1,blank_prob=(i+1)*0.1,sub_prob=(i+1)*0.1,shuffle_dist=3)\n",
        "  for j in noisy_headline:\n",
        "    l.append(vocab.itos[j])\n",
        "  print('Noisy headline',i+1,' is: ',l)"
      ]
    },
    {
      "cell_type": "markdown",
      "metadata": {
        "id": "rHKlJr_m4KUT"
      },
      "source": [
        "### Part (b) -- 8%\n",
        "\n",
        "The training code that we use to train the model is mostly provided for you. \n",
        "The only part we left blank are the parts from Q2(b). Complete the code,\n",
        "and train a new AutoEncoder model for 1 epoch. You can train your model\n",
        "for longer if you want, but training tend to take a long time,\n",
        "so we're only checking to see that your training loss is trending down.\n",
        "\n",
        "If you are using Google Colab, you can use a GPU for this portion.\n",
        "Go to \"Runtime\" => \"Change Runtime Type\"  and set \"Hardware acceleration\" to GPU.\n",
        "Your Colab session will restart.\n",
        "You can move your model to the GPU by typing `model.cuda()`, and move\n",
        "other tensors to GPU (e.g. `xs = xs.cuda()`). To move a model back to CPU,\n",
        "type `model.cpu`. To move a tensor back, use `xs = xs.cpu()`. For training,\n",
        "your model and inputs need to be on the *same device*."
      ]
    },
    {
      "cell_type": "code",
      "execution_count": 20,
      "metadata": {
        "id": "9IXnUFUJ4KUT"
      },
      "outputs": [],
      "source": [
        "def train_autoencoder(model, batch_size=64, learning_rate=0.001, num_epochs=10):\n",
        "    optimizer = optim.Adam(model.parameters(), lr=learning_rate)\n",
        "    criterion = nn.CrossEntropyLoss()\n",
        "    \n",
        "    model.cuda() \n",
        "    iter, val_loss_list = [], []\n",
        "\n",
        "    for ep in range(num_epochs):\n",
        "        # We will perform data augmentation by re-reading the input each time\n",
        "        field = data.Field(sequential=True,\n",
        "                                     tokenize=tokenize_and_randomize, # <-- data augmentation\n",
        "                                     include_lengths=True,\n",
        "                                     batch_first=True,\n",
        "                                     use_vocab=False, # <-- the tokenization function replaces this\n",
        "                                     pad_token=vocab.stoi['<pad>'])\n",
        "        dataset = data.TabularDataset(train_path, \"tsv\", [('title', field)])\n",
        "\n",
        "        # This BucketIterator will handle padding of sequences that are not of the same length\n",
        "        train_iter = data.BucketIterator(dataset,\n",
        "                                          batch_size=batch_size,\n",
        "                                          sort_key=lambda x: len(x.title), # to minimize padding\n",
        "                                          repeat=False)\n",
        "        \n",
        "        dataset_valid = data.TabularDataset(valid_path, \"tsv\", [('title', field)])\n",
        "\n",
        "        valid_iter = data.BucketIterator(dataset_valid,\n",
        "                                          batch_size=batch_size,\n",
        "                                          sort_key=lambda x: len(x.title), # to minimize padding\n",
        "                                          repeat=False)\n",
        "        \n",
        "        for it, ((xs, lengths), _) in enumerate(train_iter):\n",
        "\n",
        "            # Fill in the training code here\n",
        "            xs = xs.cuda()\n",
        "            zt = model(xs)\n",
        "            loss = criterion(zt.reshape(-1, vocab_size).double(),xs[:,1:].reshape(-1))\n",
        "            optimizer.zero_grad()\n",
        "            loss.backward()                    \n",
        "            optimizer.step()  \n",
        "\n",
        "            if (it+1) % 100 == 0:\n",
        "                print(\"[Iter %d] Train Loss %f\" % (it+1, float(loss)))\n",
        "\n",
        "                sum_val_loss = 0\n",
        "                for j, ((xv, lengths), _) in enumerate(valid_iter):\n",
        "                    xv = xv.cuda()\n",
        "                    zs = model(xv)\n",
        "                    val_loss = criterion(zs.reshape(-1, vocab_size).double(),xv[:,1:].reshape(-1)) # TODO\n",
        "                    sum_val_loss += float(val_loss)\n",
        "                iter.append(it)           \n",
        "                val_loss_list.append(sum_val_loss)\n",
        "          \n",
        "        return iter,val_loss_list\n",
        "def plot_learning_curve(iter, val_loss_list):\n",
        "    \"\"\"\n",
        "    Plot the learning curve.\n",
        "    \"\"\"\n",
        "    plt.title(\"Learning Curve: Loss per Iteration\")\n",
        "    plt.plot(iter, val_loss_list, label=\"Valid\")\n",
        "    plt.xlabel(\"Iterations\")\n",
        "    plt.ylabel(\"Loss\")\n",
        "    plt.show()\n",
        "\n",
        "\n",
        "# Include your training curve or output to show that your training loss is trending down\n"
      ]
    },
    {
      "cell_type": "code",
      "execution_count": 21,
      "metadata": {
        "colab": {
          "base_uri": "https://localhost:8080/",
          "height": 781
        },
        "id": "gYtVm21887Cb",
        "outputId": "3d6300bf-9a82-4bcc-b897-07441250cf70"
      },
      "outputs": [
        {
          "output_type": "stream",
          "name": "stdout",
          "text": [
            "[Iter 100] Train Loss 4.461610\n",
            "[Iter 200] Train Loss 4.466244\n",
            "[Iter 300] Train Loss 4.719491\n",
            "[Iter 400] Train Loss 4.025659\n",
            "[Iter 500] Train Loss 3.858963\n",
            "[Iter 600] Train Loss 4.011607\n",
            "[Iter 700] Train Loss 4.313838\n",
            "[Iter 800] Train Loss 4.033022\n",
            "[Iter 900] Train Loss 4.300333\n",
            "[Iter 1000] Train Loss 3.914034\n",
            "[Iter 1100] Train Loss 3.434082\n",
            "[Iter 1200] Train Loss 3.533071\n",
            "[Iter 1300] Train Loss 3.438324\n",
            "[Iter 1400] Train Loss 3.916340\n",
            "[Iter 1500] Train Loss 3.397478\n",
            "[Iter 1600] Train Loss 3.681675\n",
            "[Iter 1700] Train Loss 3.410680\n",
            "[Iter 1800] Train Loss 3.543047\n",
            "[Iter 1900] Train Loss 3.244884\n",
            "[Iter 2000] Train Loss 3.003610\n",
            "[Iter 2100] Train Loss 3.504615\n",
            "[Iter 2200] Train Loss 3.289493\n",
            "[Iter 2300] Train Loss 3.575633\n",
            "[Iter 2400] Train Loss 3.805813\n",
            "[Iter 2500] Train Loss 3.294019\n",
            "[Iter 2600] Train Loss 3.034972\n"
          ]
        },
        {
          "output_type": "display_data",
          "data": {
            "image/png": "[encoded data removed]",
            "text/plain": [
              "<Figure size 432x288 with 1 Axes>"
            ]
          },
          "metadata": {
            "needs_background": "light"
          }
        }
      ],
      "source": [
        "learning_curve_info = train_autoencoder(model, batch_size=64, learning_rate=0.001, num_epochs=1)\n",
        "iter, val_loss_list = learning_curve_info\n",
        "plot_learning_curve(iter, val_loss_list)"
      ]
    },
    {
      "cell_type": "markdown",
      "metadata": {
        "id": "wQot60XU4KUT"
      },
      "source": [
        "### Part (c) -- 7%\n",
        "\n",
        "This model requires many epochs (>50) to train, and is quite slow without using a GPU.\n",
        "You can train a model yourself, or you can load the model weights that we have trained,\n",
        "and available on the course website (AE_RNN_model.pk).\n",
        "\n",
        "Assuming that your `AutoEncoder` is set up correctly, the following code should run without\n",
        "error."
      ]
    },
    {
      "cell_type": "code",
      "execution_count": 22,
      "metadata": {
        "colab": {
          "base_uri": "https://localhost:8080/"
        },
        "id": "vaUUhd-Q4KUU",
        "outputId": "91810d79-c334-48e4-830e-6fae685f3dda"
      },
      "outputs": [
        {
          "output_type": "execute_result",
          "data": {
            "text/plain": [
              "<All keys matched successfully>"
            ]
          },
          "metadata": {},
          "execution_count": 22
        }
      ],
      "source": [
        "model = AutoEncoder(10000, 128, 128)\n",
        "checkpoint_path = '/content/gdrive/My Drive/Colab Notebooks/AE_RNN_model.pk' # Update me\n",
        "model.load_state_dict(torch.load(checkpoint_path))"
      ]
    },
    {
      "cell_type": "markdown",
      "metadata": {
        "id": "sG-xazc24KUU"
      },
      "source": [
        "Then, repeat your code from Q2(d), for `train_data[10].title`\n",
        "with temperature settings 0.7, 0.9, and 1.5.\n",
        "Explain why we generally don't want the temperature setting to\n",
        "be too **small**."
      ]
    },
    {
      "cell_type": "code",
      "execution_count": 23,
      "metadata": {
        "colab": {
          "base_uri": "https://localhost:8080/"
        },
        "id": "AXF5iBHX4KUU",
        "outputId": "d602ff49-f00f-4760-b3a0-6f8c8c8579f5"
      },
      "outputs": [
        {
          "output_type": "stream",
          "name": "stdout",
          "text": [
            "The temperature is:  0.7\n",
            "True seq:  ['<bos>', 'wall', 'street', 'rises', ',', 'limps', 'across', 'the', 'finish', 'line', 'of', 'a', 'turbulent', 'year', '<eos>']\n",
            "Predicted seq:  ['wall', 'street', 'rises', ',', 'limps', 'die', 'win', \"'s\", 'employees', '<pad>', 'but', 'january', 'marches'] \n",
            "\n",
            "True seq:  ['<bos>', 'wall', 'street', 'rises', ',', 'limps', 'across', 'the', 'finish', 'line', 'of', 'a', 'turbulent', 'year', '<eos>']\n",
            "Predicted seq:  ['wall', 'street', 'rises', ',', 'limps', 'australia', 'young', ',', 'plan', 'day', 'stepping', 'january', 'quarter'] \n",
            "\n",
            "True seq:  ['<bos>', 'wall', 'street', 'rises', ',', 'limps', 'across', 'the', 'finish', 'line', 'of', 'a', 'turbulent', 'year', '<eos>']\n",
            "Predicted seq:  ['wall', 'street', 'rises', ',', 'limps', 'die', 'win', 'at', \"'s\", 'nears', 'her', 'commission', 'high'] \n",
            "\n",
            "True seq:  ['<bos>', 'wall', 'street', 'rises', ',', 'limps', 'across', 'the', 'finish', 'line', 'of', 'a', 'turbulent', 'year', '<eos>']\n",
            "Predicted seq:  ['wall', 'street', 'rises', ',', 'limps', 'open', 'sentence', ',', 'kick', '<unk>', 'yemen', 'big', 'ebay'] \n",
            "\n",
            "True seq:  ['<bos>', 'wall', 'street', 'rises', ',', 'limps', 'across', 'the', 'finish', 'line', 'of', 'a', 'turbulent', 'year', '<eos>']\n",
            "Predicted seq:  ['wall', 'street', 'rises', ',', 'limps', 'die', 'win', 'at', 'of', 'sciences', 'election', 'four', 'sensitive'] \n",
            "\n",
            "The temperature is:  0.9\n",
            "True seq:  ['<bos>', 'wall', 'street', 'rises', ',', 'limps', 'across', 'the', 'finish', 'line', 'of', 'a', 'turbulent', 'year', '<eos>']\n",
            "Predicted seq:  ['wall', 'street', 'rises', ',', 'limps', 'heist', 'joins', ',', 'date', '<pad>', 'three', 'after', 'outlook'] \n",
            "\n",
            "True seq:  ['<bos>', 'wall', 'street', 'rises', ',', 'limps', 'across', 'the', 'finish', 'line', 'of', 'a', 'turbulent', 'year', '<eos>']\n",
            "Predicted seq:  ['wall', 'street', 'rises', ',', 'limps', 'die', 'win', 'at', ',', 'pay', 'despite', 'recession', 'paris'] \n",
            "\n",
            "True seq:  ['<bos>', 'wall', 'street', 'rises', ',', 'limps', 'across', 'the', 'finish', 'line', 'of', 'a', 'turbulent', 'year', '<eos>']\n",
            "Predicted seq:  ['wall', 'street', 'rises', ',', 'limps', 'die', 'win', 'at', 'of', 'sciences', '<pad>', 'presidential', 'amid'] \n",
            "\n",
            "True seq:  ['<bos>', 'wall', 'street', 'rises', ',', 'limps', 'across', 'the', 'finish', 'line', 'of', 'a', 'turbulent', 'year', '<eos>']\n",
            "Predicted seq:  ['wall', 'street', 'rises', ',', 'limps', 'back', 'scandal', 'detroit', \"'s\", 'bashes', '<pad>', 'this', 'year'] \n",
            "\n",
            "True seq:  ['<bos>', 'wall', 'street', 'rises', ',', 'limps', 'across', 'the', 'finish', 'line', 'of', 'a', 'turbulent', 'year', '<eos>']\n",
            "Predicted seq:  ['wall', 'street', 'rises', ',', 'limps', 'across', 'spanish', 'with', \"'s\", '<pad>', 'transitional', 'percent', 'group'] \n",
            "\n",
            "The temperature is:  1.5\n",
            "True seq:  ['<bos>', 'wall', 'street', 'rises', ',', 'limps', 'across', 'the', 'finish', 'line', 'of', 'a', 'turbulent', 'year', '<eos>']\n",
            "Predicted seq:  ['wall', 'street', 'tops', 'futures', 'equality', 'risk', 'roll', 'quarantined', 'after', 'latin', 'prime', 'people', 'delayed'] \n",
            "\n",
            "True seq:  ['<bos>', 'wall', 'street', 'rises', ',', 'limps', 'across', 'the', 'finish', 'line', 'of', 'a', 'turbulent', 'year', '<eos>']\n",
            "Predicted seq:  ['wall', 'street', 'rises', ',', 'look', 'drones', 'royals', 'lewis', 'to', '_num_-wework', 'fall', 'issues', 'nepal'] \n",
            "\n",
            "True seq:  ['<bos>', 'wall', 'street', 'rises', ',', 'limps', 'across', 'the', 'finish', 'line', 'of', 'a', 'turbulent', 'year', '<eos>']\n",
            "Predicted seq:  ['wall', 'street', 'rises', 'per', 'deport', 'for', 'plant', 'prayer', 'to', 'after', 'season', 'stays', 'ruler'] \n",
            "\n",
            "True seq:  ['<bos>', 'wall', 'street', 'rises', ',', 'limps', 'across', 'the', 'finish', 'line', 'of', 'a', 'turbulent', 'year', '<eos>']\n",
            "Predicted seq:  ['wall', 'street', 'rises', ',', 'jd.com', 'fierce', '<unk>', 'end', 'to', 'man', 'clear', 'pimco', 'after', '-sources'] \n",
            "\n",
            "True seq:  ['<bos>', 'wall', 'street', 'rises', ',', 'limps', 'across', 'the', 'finish', 'line', 'of', 'a', 'turbulent', 'year', '<eos>']\n",
            "Predicted seq:  ['wall', \"'s\", 'nutrien', 'trash', 'magna', 'socialists', 'immediate', 'higher', 'islamic', 'for', '<pad>', 'remains', 'black'] \n",
            "\n"
          ]
        }
      ],
      "source": [
        "# Include the generated sequences and explanation in your PDF report.\n",
        "\n",
        "headline = train_data[10].title\n",
        "input_seq = torch.Tensor([vocab.stoi[w] for w in headline]).unsqueeze(0).long()\n",
        "\n",
        "temp = [0.7,0.9,1.5]\n",
        "for j in temp:\n",
        "  print('The temperature is: ',j)\n",
        "  for i in range(5): \n",
        "    print(\"True seq: \",headline)\n",
        "    prediced_seq = sample_sequence(model, model.encode(input_seq), max_len=20, temperature=j)\n",
        "    print(\"Predicted seq: \",prediced_seq, \"\\n\")"
      ]
    },
    {
      "cell_type": "markdown",
      "metadata": {
        "id": "tgjhZHJDRljU"
      },
      "source": [
        "**Explanation:**\n",
        "\n",
        "We generally don't want the temperature setting to be too small, because low values of the temperature cause the distribution of the words to be \"peakier\" , so the variance is low, which means that the model predicts most common words (very likely tokens). so the predicted headlines may not make sense."
      ]
    },
    {
      "cell_type": "markdown",
      "metadata": {
        "id": "mftjD-To4KUU"
      },
      "source": [
        "## Question 4. Latent space manipulations (20%)\n",
        "\n",
        "In parts 2-3, we've explored the decoder portion of the autoencoder. In this section,\n",
        "let's explore the **encoder**. In particular, the encoder RNN gives us \n",
        "embeddings of news headlines!\n",
        "\n",
        "First, let's load the **validation** data set:"
      ]
    },
    {
      "cell_type": "code",
      "execution_count": 24,
      "metadata": {
        "id": "08HhRGfm4KUU"
      },
      "outputs": [],
      "source": [
        "valid_data = data.TabularDataset(\n",
        "    path=valid_path,                # data file path\n",
        "    format=\"tsv\",                   # fields are separated by a tab\n",
        "    fields=[('title', text_field)]) # list of fields (we have only one)"
      ]
    },
    {
      "cell_type": "markdown",
      "metadata": {
        "id": "utBRC0tq4KUV"
      },
      "source": [
        "### Part (a) -- 4%\n",
        "\n",
        "Compute the embeddings of every item in the validation set. Then, store the\n",
        "result in a single PyTorch tensor of shape `[19046, 128]`, since there are\n",
        "19,046 headlines in the validation set."
      ]
    },
    {
      "cell_type": "code",
      "source": [
        "valid_iter = data.BucketIterator(valid_data,\n",
        "                                batch_size=len(valid_data),\n",
        "                                sort_key=lambda x: len(x.title),\n",
        "                                repeat=False)\n",
        "\n",
        "for it, ((xs, lengths), _) in enumerate(valid_iter): \n",
        "  seq_emb = model.encode(xs).squeeze(0)\n",
        "\n",
        "print('PyTorch tensor of shape : ',seq_emb.shape)"
      ],
      "metadata": {
        "colab": {
          "base_uri": "https://localhost:8080/"
        },
        "id": "YqCXYb2NeKrS",
        "outputId": "a862108f-e4a9-4ca2-9cb4-28cdb2873f24"
      },
      "execution_count": 25,
      "outputs": [
        {
          "output_type": "stream",
          "name": "stdout",
          "text": [
            "PyTorch tensor of shape :  torch.Size([19046, 128])\n"
          ]
        }
      ]
    },
    {
      "cell_type": "markdown",
      "metadata": {
        "id": "BlKbT2vW4KUV"
      },
      "source": [
        "### Part (b) -- 4%\n",
        "\n",
        "Find the 5 closest headlines to the headline `valid_data[13]`. Use the\n",
        "cosine similarity to determine closeness. (Hint: You can use code from assignment 2)"
      ]
    },
    {
      "cell_type": "code",
      "execution_count": 26,
      "metadata": {
        "id": "MX_Fdegj2ees"
      },
      "outputs": [],
      "source": [
        "list_val = []\n",
        "for i in range(19046):\n",
        "  headline = ' '.join(valid_data[i].title[1:-1])\n",
        "  list_val.append(headline)\n",
        "vocab_itos = dict(enumerate(list_val))\n",
        "vocab_stoi = {hedline:index for index, hedline in vocab_itos.items()}"
      ]
    },
    {
      "cell_type": "code",
      "execution_count": 50,
      "metadata": {
        "colab": {
          "base_uri": "https://localhost:8080/"
        },
        "id": "7AMt2HIz4KUV",
        "outputId": "746f3519-82f4-4323-f9ea-8f72118cbad5"
      },
      "outputs": [
        {
          "output_type": "stream",
          "name": "stdout",
          "text": [
            "The 5 closest headlines to \"asia takes heart from new year gains in u.s. stock futures\" are:\n",
            "\n",
            " erdogan loses hold over turkish capital , istanbul disputed\n",
            "\n",
            " factbox : u.s. prepared to tap emergency oil reserves , perry says no decision yet\n",
            "\n",
            " cargill names new head of grain trading and processing\n",
            "\n",
            " whiteley out for six to eight weeks\n",
            "\n",
            " world leaders risk anger , more protests over inequality : u.n. official\n"
          ]
        }
      ],
      "source": [
        "seq_emb = seq_emb.detach().numpy()\n",
        "norms = np.linalg.norm(seq_emb, axis=1)\n",
        "seq_emb_norm = (seq_emb.T / norms).T\n",
        "similarities = np.matmul(seq_emb_norm, seq_emb_norm.T)\n",
        "\n",
        "headline = valid_data[13].title\n",
        "headlines_similarity = {}\n",
        "for i in range(19046):\n",
        "  k = similarities[vocab_stoi[' '.join(valid_data[i].title[1:-1])],vocab_stoi[' '.join(headline[1:-1])]]\n",
        "  headlines_similarity.update({' '.join(valid_data[i].title[1:-1]):k})\n",
        "sort_dict = ((sorted(headlines_similarity.items(), key=lambda x:x[1])[-6:-1])[::-1])\n",
        "common_5 = [tp[0] for tp in sort_dict]\n",
        "print('The 5 closest headlines to \"'+ ' '.join(headline[1:-1]) +'\" are:')\n",
        "for hed in common_5:\n",
        "  print(\"\\n\",hed)"
      ]
    },
    {
      "cell_type": "markdown",
      "metadata": {
        "id": "cAzZt4bU4KUW"
      },
      "source": [
        "### Part (c) -- 4%\n",
        "\n",
        "Find the 5 closest headlines to another headline of your choice."
      ]
    },
    {
      "cell_type": "code",
      "execution_count": 47,
      "metadata": {
        "colab": {
          "base_uri": "https://localhost:8080/"
        },
        "id": "BkKR09Ce4KUW",
        "outputId": "f5b071f2-b4ab-48ac-d37d-68d593be76b8"
      },
      "outputs": [
        {
          "output_type": "stream",
          "name": "stdout",
          "text": [
            "The 5 closest headlines to \"amid u.s. withdrawal plans , u.s.-backed forces still fighting in syria\" are:\n",
            "\n",
            " faa proposes fining boeing $ _num_ million for installing defective parts on _num_ planes\n",
            "\n",
            " lebanon prosecutor to question ghosn on thursday : state news agency\n",
            "\n",
            " mali jihadists say attack on passenger bus was targeting french troops\n",
            "\n",
            " slovak far-right leader on trial for hate speech may play election kingmaker\n",
            "\n",
            " factbox : roe v. wade at risk : legal challenges to u.s. abortion rights\n"
          ]
        }
      ],
      "source": [
        "headline = valid_data[100].title\n",
        "headlines_similarity = {}\n",
        "for i in range(19046):\n",
        "  k = similarities[vocab_stoi[' '.join(valid_data[i].title[1:-1])],vocab_stoi[' '.join(headline[1:-1])]]\n",
        "  headlines_similarity.update({' '.join(valid_data[i].title[1:-1]):k})\n",
        "sort_dict = ((sorted(headlines_similarity.items(), key=lambda x:x[1])[-6:-1])[::-1])\n",
        "common_5 = [tp[0] for tp in sort_dict]\n",
        "print('The 5 closest headlines to \"'+ ' '.join(headline[1:-1]) +'\" are:')\n",
        "for hed in common_5:\n",
        "  print(\"\\n\",hed)\n",
        "# Make sure to include the original headline and the 5 closest headlines."
      ]
    },
    {
      "cell_type": "markdown",
      "metadata": {
        "id": "ftUooZD-4KUW"
      },
      "source": [
        "### Part (d) -- 8%\n",
        "\n",
        "Choose two headlines from the validation set, and find their embeddings.\n",
        "We will **interpolate** between the two embeddings like we did in the example presented in class for training autoencoders on MNIST.\n",
        "\n",
        "Find 3 points, equally spaced between the embeddings of your headlines.\n",
        "If we let $e_0$ be the embedding of your first headline and $e_4$ be\n",
        "the embedding of your second headline, your three points should be:\n",
        "\n",
        "\\begin{align*}\n",
        "e_1 &=  0.75 e_0 + 0.25 e_4 \\\\\n",
        "e_2 &=  0.50 e_0 + 0.50 e_4 \\\\\n",
        "e_3 &=  0.25 e_0 + 0.75 e_4 \\\\\n",
        "\\end{align*}\n",
        "\n",
        "Decode each of $e_1$, $e_2$ and $e_3$ five times, with a temperature setting\n",
        "that shows some variation in the generated sequences. Try to get a logical and cool sentence (this might be hard)."
      ]
    },
    {
      "cell_type": "code",
      "execution_count": 51,
      "metadata": {
        "colab": {
          "base_uri": "https://localhost:8080/"
        },
        "id": "7SYa3PNc4KUW",
        "outputId": "ee87f420-4ada-49a8-9254-3f25fb441789"
      },
      "outputs": [
        {
          "output_type": "stream",
          "name": "stdout",
          "text": [
            "the chosen two headlines are:  \n",
            " \" fifa studying potential for _num_ world cup to be expanded to _num_ teams : infantino \" , embedding size:  (128,) \n",
            " \" bulgaria extends bid deadline for sofia airport tender again \" , embedding size:  (128,)\n",
            "\n",
            "Iteration 1 :\n",
            "e _ 0  =  ['uk', 'government', 'tariff', 'emir', 'protests', 'dialysis', 'lawmakers', 'compromise', 'after', \"n't\", 'if', 'may', 'challenge', 'border', 'brussels']\n",
            "e _ 1  =  ['uk', 'of', 'government', 'signals', 'preserve', 'ag', 'after', 'officials', 'mixed', 'divide', 'acquits', 'northern', 'congress', 'look']\n",
            "e _ 2  =  ['americans', 'brazil', 'minimum', 'data', 'curtailments', 'second', 'tells', 'russia', 'on', 'narrow', 'still', 'hopes', 'senate']\n",
            "e _ 3  =  ['amro', 'of', 'exports', 'forecast', 'sentiment', 'sit', 'pm', 'eight', 'on', 'putin', 'limit']\n",
            "e _ 4  =  ['australia', \"'s\", 'lng', 'exports', 'slip', 'france', 'sought', 'women', 'call', 'car', 'stockpiles']\n",
            "\n",
            "Iteration 2 :\n",
            "e _ 0  =  ['uk', 'government', 'turmoil', 'fail', 'approval', 'lawmakers', 'after', 'fate', 'to', 'if', 'undecided', 'brexit', 'finance', 'says', 'this']\n",
            "e _ 1  =  ['britain', 'deadline', 'raises', 'ousting', 'nuclear', 'tensions', 'issue', 'stepping', ':', 'stem', 'council', 'welcomes', 'christmas']\n",
            "e _ 2  =  ['government', 'update', 'drops', 'steam', 'tightens', 'not', 'bourses', 'summit', 'on', 'eve', 'white', 'northern', 'unity']\n",
            "e _ 3  =  ['australia', \"'s\", 'efforts', '$', 'sk', 'stance', 'ahead', 'intelligence', 'in', 'deal', 'depot', 'deadlock']\n",
            "e _ 4  =  ['australia', \"'s\", 'lng', 'exports', 'slip', 'behind', 'qatar', 'in', 'january', 'on', 'heavy']\n",
            "\n",
            "Iteration 3 :\n",
            "e _ 0  =  ['uk', 'government', 'will', 'hurdle', 'hopes', 'moment', 'with', 'yemen', 'says', 'climate', 'pass', 'to', 'pressure', 'says', 'ceremony']\n",
            "e _ 1  =  ['get', 'concerns', 'die', 'update', 'deadline', 'petersburg', 'on', 'but', 'colombia', 'migrants', 'deal', 'guaido', 'decision', 'solskjaer']\n",
            "e _ 2  =  ['latvia', 'to', 'economic', 'rpt-china', 'hopes', 'other', 'last', 'fate', ':', ',', 'essar', 'measures']\n",
            "e _ 3  =  ['australia', 'exports', '_num_', 'user', 'board', 'reverse', 'the', 'somalia', 'on', 'u.s.', 'slow', 'cable']\n",
            "e _ 4  =  ['australia', 'at', 'goyal', 'rise', 'fresh', 'nike', 'call', 'responsibility', 'other', ';', 'freeze']\n",
            "\n",
            "Iteration 4 :\n",
            "e _ 0  =  ['uk', 'government', 'will', 'pull', 'planned', 'vote', 'generation', 'clearing', 'people', 'to', 'stands', 'union', 'brexit', 'pass', 'woes']\n",
            "e _ 1  =  ['uk', 'government', '/', 'cuts', 'spat', 'vote', 'safe', 'between', 'pm', 'chief', 'fight', 'deal', 'alexa', 'fear']\n",
            "e _ 2  =  ['end', 'ceo', \"'s\", '$', 'accounts', 'speech', 'hell', 'northern', 'his', 'agree', 'rba', 'europe', 'trump']\n",
            "e _ 3  =  ['australia', 'exports', '_num_', 'u.s.-israeli', 'volatility', 'in', 'set', 'loyal', 'summit', 'on', 'pension', 'germany']\n",
            "e _ 4  =  ['australia', \"'s\", 'lng', 'exports', 'slip', 'behind', 'qatar', 'in', 'january', 'on', 'crude']\n",
            "\n",
            "Iteration 5 :\n",
            "e _ 0  =  ['uk', 'government', 'recycling', 'rule', 'st', 'vote', 'stay', 'xl', 'of', 'pm', 'reform', 'britain', 'going', 'change', 'meeting']\n",
            "e _ 1  =  ['pressure', 'at', 'china', 'send', 'told', 'as', 'drifts', 'talks', ':', 'allies', 'we', 'parliament', 'jobs', 'fails']\n",
            "e _ 2  =  ['orban', 'at', 'output', 'rise', 'rpt-india', 'declare', 'as', 'nord', 'rate', ':', 'rule', 'brink', 'homeless']\n",
            "e _ 3  =  ['australia', \"'s\", 'consumer', 'cuts', 'fannie', 'butina', 'monday', 'trump', 'server', 'on', 'workers', 'colombia']\n",
            "e _ 4  =  ['australia', \"'s\", 'lng', 'exports', 'slip', 'other', 'security', 'headache', 'his', 'base', 'fall']\n"
          ]
        }
      ],
      "source": [
        "# Write your code here. Include your generated sequences.\n",
        "headline_0 = list_val[23]\n",
        "headline_4 = list_val[24]\n",
        "e_0 = seq_emb[39]\n",
        "e_4 = seq_emb[30]\n",
        "print('the chosen two headlines are: ',\"\\n\",'\"',headline_0,'\" ,','embedding size: ',e_0.shape,\"\\n\",'\"',headline_4,'\" ,','embedding size: ',e_4.shape)\n",
        "\n",
        "e_0 = torch.Tensor(e_0)\n",
        "e_0 = torch.unsqueeze(e_0,0)\n",
        "e_0 = torch.unsqueeze(e_0,0)\n",
        "\n",
        "e_4 = torch.Tensor(e_4)\n",
        "e_4 = torch.unsqueeze(e_4,0)\n",
        "e_4 = torch.unsqueeze(e_4,0)\n",
        "\n",
        "e_1 = 0.75*e_0+0.25*e_4\n",
        "e_2 = 0.5*e_0+0.5*e_4\n",
        "e_3 = 0.25*e_0+0.75*e_4\n",
        "\n",
        "e_list = [e_0,e_1,e_2,e_3,e_4]\n",
        "for j in range(5):\n",
        "    print(\"\\nIteration\", j+1, \":\")\n",
        "    for i,n in enumerate(e_list):\n",
        "        print(\"e _\",i,\" = \", sample_sequence(model, n, max_len=20, temperature=1.7))"
      ]
    }
  ],
  "metadata": {
    "accelerator": "GPU",
    "colab": {
      "collapsed_sections": [],
      "name": "Assignment4.ipynb",
      "provenance": [],
      "toc_visible": true
    },
    "kernelspec": {
      "display_name": "Python 3",
      "name": "python3"
    },
    "language_info": {
      "name": "python"
    }
  },
  "nbformat": 4,
  "nbformat_minor": 0
}